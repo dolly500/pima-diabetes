{
  "metadata": {
    "kernelspec": {
      "language": "python",
      "display_name": "Python 3",
      "name": "python3"
    },
    "language_info": {
      "name": "python",
      "version": "3.10.12",
      "mimetype": "text/x-python",
      "codemirror_mode": {
        "name": "ipython",
        "version": 3
      },
      "pygments_lexer": "ipython3",
      "nbconvert_exporter": "python",
      "file_extension": ".py"
    },
    "kaggle": {
      "accelerator": "none",
      "dataSources": [
        {
          "sourceId": 482,
          "sourceType": "datasetVersion",
          "datasetId": 228
        }
      ],
      "dockerImageVersionId": 30626,
      "isInternetEnabled": true,
      "language": "python",
      "sourceType": "notebook",
      "isGpuEnabled": false
    },
    "colab": {
      "name": "Pima Indiands Diabetes Database Classification",
      "provenance": [],
      "include_colab_link": true
    }
  },
  "nbformat_minor": 0,
  "nbformat": 4,
  "cells": [
    {
      "cell_type": "markdown",
      "metadata": {
        "id": "view-in-github",
        "colab_type": "text"
      },
      "source": [
        "<a href=\"https://colab.research.google.com/github/dolly500/pima-diabetes/blob/main/Pima_Indiands_Diabetes_Database_Classification.ipynb\" target=\"_parent\"><img src=\"https://colab.research.google.com/assets/colab-badge.svg\" alt=\"Open In Colab\"/></a>"
      ]
    },
    {
      "source": [
        "\n",
        "# IMPORTANT: RUN THIS CELL IN ORDER TO IMPORT YOUR KAGGLE DATA SOURCES\n",
        "# TO THE CORRECT LOCATION (/kaggle/input) IN YOUR NOTEBOOK,\n",
        "# THEN FEEL FREE TO DELETE THIS CELL.\n",
        "# NOTE: THIS NOTEBOOK ENVIRONMENT DIFFERS FROM KAGGLE'S PYTHON\n",
        "# ENVIRONMENT SO THERE MAY BE MISSING LIBRARIES USED BY YOUR\n",
        "# NOTEBOOK.\n",
        "\n",
        "import os\n",
        "import sys\n",
        "from tempfile import NamedTemporaryFile\n",
        "from urllib.request import urlopen\n",
        "from urllib.parse import unquote, urlparse\n",
        "from urllib.error import HTTPError\n",
        "from zipfile import ZipFile\n",
        "import tarfile\n",
        "import shutil\n",
        "\n",
        "CHUNK_SIZE = 40960\n",
        "DATA_SOURCE_MAPPING = 'pima-indians-diabetes-database:https%3A%2F%2Fstorage.googleapis.com%2Fkaggle-data-sets%2F228%2F482%2Fbundle%2Farchive.zip%3FX-Goog-Algorithm%3DGOOG4-RSA-SHA256%26X-Goog-Credential%3Dgcp-kaggle-com%2540kaggle-161607.iam.gserviceaccount.com%252F20240302%252Fauto%252Fstorage%252Fgoog4_request%26X-Goog-Date%3D20240302T053210Z%26X-Goog-Expires%3D259200%26X-Goog-SignedHeaders%3Dhost%26X-Goog-Signature%3D907e1b7ae51f92d6bc1f30d0b54c1ae97392c5fa06503bd49e5f9a935e5edf3b11c106433bd26f461412de8be7b0c9bec4d3715fd810eacf826f31f8b35177b3b060f5af810855722ee1143cf804db51bfec87c30853b0d2790ae31721f8e0a6bfe4322342c41e556ab4323d7bd319e57dd021c3e5bcf71042f50b73764e35372909bfc18b7bef045904da17273159a1162fac2610156e2bf04a4eca3cc14174ecb1b1740fadf5b3bd23d6dee4ea0b2ad1acd7e8729a3e3a67a6fadb9655d8c69955e0306e94b837aec0abdd1e254a9d09afe632152892ca9f51fc3224f25ac2b83f659505c6d09d0a931bffdfa27520dd7bc9ace9c38ad94ad7d417704e1393'\n",
        "\n",
        "KAGGLE_INPUT_PATH='/kaggle/input'\n",
        "KAGGLE_WORKING_PATH='/kaggle/working'\n",
        "KAGGLE_SYMLINK='kaggle'\n",
        "\n",
        "!umount /kaggle/input/ 2> /dev/null\n",
        "shutil.rmtree('/kaggle/input', ignore_errors=True)\n",
        "os.makedirs(KAGGLE_INPUT_PATH, 0o777, exist_ok=True)\n",
        "os.makedirs(KAGGLE_WORKING_PATH, 0o777, exist_ok=True)\n",
        "\n",
        "try:\n",
        "  os.symlink(KAGGLE_INPUT_PATH, os.path.join(\"..\", 'input'), target_is_directory=True)\n",
        "except FileExistsError:\n",
        "  pass\n",
        "try:\n",
        "  os.symlink(KAGGLE_WORKING_PATH, os.path.join(\"..\", 'working'), target_is_directory=True)\n",
        "except FileExistsError:\n",
        "  pass\n",
        "\n",
        "for data_source_mapping in DATA_SOURCE_MAPPING.split(','):\n",
        "    directory, download_url_encoded = data_source_mapping.split(':')\n",
        "    download_url = unquote(download_url_encoded)\n",
        "    filename = urlparse(download_url).path\n",
        "    destination_path = os.path.join(KAGGLE_INPUT_PATH, directory)\n",
        "    try:\n",
        "        with urlopen(download_url) as fileres, NamedTemporaryFile() as tfile:\n",
        "            total_length = fileres.headers['content-length']\n",
        "            print(f'Downloading {directory}, {total_length} bytes compressed')\n",
        "            dl = 0\n",
        "            data = fileres.read(CHUNK_SIZE)\n",
        "            while len(data) > 0:\n",
        "                dl += len(data)\n",
        "                tfile.write(data)\n",
        "                done = int(50 * dl / int(total_length))\n",
        "                sys.stdout.write(f\"\\r[{'=' * done}{' ' * (50-done)}] {dl} bytes downloaded\")\n",
        "                sys.stdout.flush()\n",
        "                data = fileres.read(CHUNK_SIZE)\n",
        "            if filename.endswith('.zip'):\n",
        "              with ZipFile(tfile) as zfile:\n",
        "                zfile.extractall(destination_path)\n",
        "            else:\n",
        "              with tarfile.open(tfile.name) as tarfile:\n",
        "                tarfile.extractall(destination_path)\n",
        "            print(f'\\nDownloaded and uncompressed: {directory}')\n",
        "    except HTTPError as e:\n",
        "        print(f'Failed to load (likely expired) {download_url} to path {destination_path}')\n",
        "        continue\n",
        "    except OSError as e:\n",
        "        print(f'Failed to load {download_url} to path {destination_path}')\n",
        "        continue\n",
        "\n",
        "print('Data source import complete.')\n"
      ],
      "metadata": {
        "id": "pvhlbQ8elLn6"
      },
      "cell_type": "code",
      "outputs": [],
      "execution_count": null
    },
    {
      "cell_type": "code",
      "source": [
        "!pip install xgboost"
      ],
      "metadata": {
        "execution": {
          "iopub.status.busy": "2024-02-26T09:33:56.019548Z",
          "iopub.execute_input": "2024-02-26T09:33:56.019957Z",
          "iopub.status.idle": "2024-02-26T09:34:12.947842Z",
          "shell.execute_reply.started": "2024-02-26T09:33:56.019921Z",
          "shell.execute_reply": "2024-02-26T09:34:12.946472Z"
        },
        "trusted": true,
        "id": "edEYPDVFlLn_",
        "outputId": "ce6e5ae6-c959-4bea-a8b1-9ea0ee1f227c"
      },
      "execution_count": null,
      "outputs": [
        {
          "name": "stdout",
          "text": "Requirement already satisfied: xgboost in /opt/conda/lib/python3.10/site-packages (2.0.2)\nRequirement already satisfied: numpy in /opt/conda/lib/python3.10/site-packages (from xgboost) (1.24.3)\nRequirement already satisfied: scipy in /opt/conda/lib/python3.10/site-packages (from xgboost) (1.11.4)\n",
          "output_type": "stream"
        }
      ]
    },
    {
      "cell_type": "code",
      "source": [
        "# This Python 3 environment comes with many helpful analytics libraries installed\n",
        "# It is defined by the kaggle/python Docker image: https://github.com/kaggle/docker-python\n",
        "# For example, here's several helpful packages to load\n",
        "\n",
        "import numpy as np # linear algebra\n",
        "import pandas as pd # data processing, CSV file I/O (e.g. pd.read_csv)\n",
        "import matplotlib.pyplot as plt\n",
        "import seaborn as sns\n",
        "from sklearn.model_selection import train_test_split\n",
        "from imblearn.over_sampling import SMOTE\n",
        "from sklearn import preprocessing\n",
        "\n",
        "# Importing Machine learning models library used for classification\n",
        "from sklearn.linear_model import LogisticRegression\n",
        "from sklearn.model_selection import train_test_split\n",
        "from sklearn.model_selection import KFold\n",
        "from sklearn.ensemble import RandomForestClassifier\n",
        "from sklearn.neighbors import KNeighborsClassifier as knn\n",
        "from sklearn.naive_bayes import GaussianNB as GB\n",
        "from sklearn.svm import SVC\n",
        "import xgboost as xgb\n",
        "\n",
        "from sklearn.metrics import confusion_matrix, accuracy_score, precision_score , recall_score\n",
        "from sklearn.model_selection import GridSearchCV\n",
        "\n",
        "# Input data files are available in the read-only \"../input/\" directory\n",
        "# For example, running this (by clicking run or pressing Shift+Enter) will list all files under the input directory\n",
        "\n",
        "import os\n",
        "for dirname, _, filenames in os.walk('/kaggle/input'):\n",
        "    for filename in filenames:\n",
        "        print(os.path.join(dirname, filename))\n",
        "\n",
        "# You can write up to 20GB to the current directory (/kaggle/working/) that gets preserved as output when you create a version using \"Save & Run All\"\n",
        "# You can also write temporary files to /kaggle/temp/, but they won't be saved outside of the current session"
      ],
      "metadata": {
        "_uuid": "8f2839f25d086af736a60e9eeb907d3b93b6e0e5",
        "_cell_guid": "b1076dfc-b9ad-4769-8c92-a6c4dae69d19",
        "execution": {
          "iopub.status.busy": "2024-02-26T09:34:12.9515Z"
        },
        "trusted": true,
        "id": "j7TBJ9aSlLoB"
      },
      "execution_count": null,
      "outputs": []
    },
    {
      "cell_type": "code",
      "source": [
        "df = pd.read_csv('/kaggle/input/pima-indians-diabetes-database/diabetes.csv')\n",
        "df"
      ],
      "metadata": {
        "trusted": true,
        "id": "gFZYYO-ilLoB"
      },
      "execution_count": null,
      "outputs": []
    },
    {
      "cell_type": "code",
      "source": [
        "df.describe().T"
      ],
      "metadata": {
        "trusted": true,
        "id": "oPdrDAwYlLoC"
      },
      "execution_count": null,
      "outputs": []
    },
    {
      "cell_type": "code",
      "source": [
        "df.columns"
      ],
      "metadata": {
        "trusted": true,
        "id": "oRlUaZbxlLoC"
      },
      "execution_count": null,
      "outputs": []
    },
    {
      "cell_type": "code",
      "source": [
        "df.info()"
      ],
      "metadata": {
        "trusted": true,
        "id": "kgBj3xCtlLoD"
      },
      "execution_count": null,
      "outputs": []
    },
    {
      "cell_type": "code",
      "source": [
        "column_to_replace = ['Glucose', 'BloodPressure', 'SkinThickness', 'BMI']\n",
        "df[column_to_replace] = df[column_to_replace].replace(0, np.nan)\n",
        "df"
      ],
      "metadata": {
        "trusted": true,
        "id": "rt4WT6vXlLoE"
      },
      "execution_count": null,
      "outputs": []
    },
    {
      "cell_type": "code",
      "source": [
        "df.describe().T"
      ],
      "metadata": {
        "trusted": true,
        "id": "zjTUTfZolLoE"
      },
      "execution_count": null,
      "outputs": []
    },
    {
      "cell_type": "code",
      "source": [
        "num_cols = 3\n",
        "\n",
        "num_features = len(df.columns)\n",
        "num_rows = (num_features + num_cols - 1) // num_cols\n",
        "\n",
        "fig, axes = plt.subplots(num_rows, num_cols, figsize=(15, 5*num_rows))\n",
        "fig.subplots_adjust(hspace=0.5)\n",
        "\n",
        "axes = axes.flatten()\n",
        "\n",
        "for i, column in enumerate(df.columns):\n",
        "    sns.histplot(df[column], kde=False, ax=axes[i])\n",
        "    axes[i].set_title(f'Distribution of {column}')\n",
        "    axes[i].set_xlabel(column)\n",
        "\n",
        "for i in range(num_features, num_rows * num_cols):\n",
        "    fig.delaxes(axes[i])\n",
        "\n",
        "plt.show()"
      ],
      "metadata": {
        "trusted": true,
        "id": "WORAr5ZglLoF"
      },
      "execution_count": null,
      "outputs": []
    },
    {
      "cell_type": "code",
      "source": [
        "num_cols = 3\n",
        "\n",
        "num_features = len(df.columns)\n",
        "num_rows = (num_features + num_cols - 1) // num_cols\n",
        "\n",
        "fig, axes = plt.subplots(num_rows, num_cols, figsize=(15, 5*num_rows))\n",
        "fig.subplots_adjust(hspace=0.5)\n",
        "\n",
        "axes = axes.flatten()\n",
        "\n",
        "for i, column in enumerate(df.columns):\n",
        "    sns.boxplot(df[column], ax=axes[i])\n",
        "    axes[i].set_title(f'Distribution of {column}')\n",
        "    axes[i].set_xlabel(column)\n",
        "\n",
        "for i in range(num_features, num_rows * num_cols):\n",
        "    fig.delaxes(axes[i])\n",
        "\n",
        "plt.show()"
      ],
      "metadata": {
        "trusted": true,
        "id": "qOvcSdkNlLoF"
      },
      "execution_count": null,
      "outputs": []
    },
    {
      "cell_type": "code",
      "source": [
        "df.columns"
      ],
      "metadata": {
        "trusted": true,
        "id": "G0q5DCVwlLoF"
      },
      "execution_count": null,
      "outputs": []
    },
    {
      "cell_type": "code",
      "source": [
        "def replace_outliers_zscore(df, column, n_std):\n",
        "    mean = df[column].mean()\n",
        "    std = df[column].std()\n",
        "    lower_bound = mean - n_std * std\n",
        "    upper_bound = mean + n_std * std\n",
        "\n",
        "    df[column] = df[column].apply(lambda x: min(max(x, lower_bound), upper_bound))"
      ],
      "metadata": {
        "trusted": true,
        "id": "NbCNWv7HlLoG"
      },
      "execution_count": null,
      "outputs": []
    },
    {
      "cell_type": "code",
      "source": [
        "def replace_outliers_iqr(df, column):\n",
        "    Q1 = df[column].quantile(0.25)\n",
        "    Q3 = df[column].quantile(0.75)\n",
        "    IQR = Q3 - Q1\n",
        "\n",
        "    lower_bound = Q1 - 1.5 * IQR\n",
        "    upper_bound = Q3 + 1.5 * IQR\n",
        "\n",
        "    df[column] = df[column].apply(lambda x: min(max(x, lower_bound), upper_bound))"
      ],
      "metadata": {
        "trusted": true,
        "id": "6VeXjZQblLoG"
      },
      "execution_count": null,
      "outputs": []
    },
    {
      "cell_type": "code",
      "source": [
        "NormalDistColumns = ['BloodPressure', 'BMI']\n",
        "for col in NormalDistColumns:\n",
        "    replace_outliers_zscore(df, col, 3)"
      ],
      "metadata": {
        "trusted": true,
        "id": "e2TOTCEUlLoG"
      },
      "execution_count": null,
      "outputs": []
    },
    {
      "cell_type": "code",
      "source": [
        "NotNormalDistColumn = ['Pregnancies', 'SkinThickness', 'Insulin', 'DiabetesPedigreeFunction', 'Age']\n",
        "for col in NotNormalDistColumn:\n",
        "    replace_outliers_iqr(df, col)"
      ],
      "metadata": {
        "trusted": true,
        "id": "KDKU4JqxlLoH"
      },
      "execution_count": null,
      "outputs": []
    },
    {
      "cell_type": "code",
      "source": [
        "num_cols = 3\n",
        "\n",
        "num_features = len(df.columns)\n",
        "num_rows = (num_features + num_cols - 1) // num_cols\n",
        "\n",
        "fig, axes = plt.subplots(num_rows, num_cols, figsize=(15, 5*num_rows))\n",
        "fig.subplots_adjust(hspace=0.5)\n",
        "\n",
        "axes = axes.flatten()\n",
        "\n",
        "for i, column in enumerate(df.columns):\n",
        "    sns.boxplot(df[column], ax=axes[i])\n",
        "    axes[i].set_title(f'Distribution of {column}')\n",
        "    axes[i].set_xlabel(column)\n",
        "\n",
        "for i in range(num_features, num_rows * num_cols):\n",
        "    fig.delaxes(axes[i])\n",
        "\n",
        "plt.show()"
      ],
      "metadata": {
        "trusted": true,
        "id": "QFomPxwilLoH"
      },
      "execution_count": null,
      "outputs": []
    },
    {
      "cell_type": "code",
      "source": [
        "df.isna().sum()"
      ],
      "metadata": {
        "trusted": true,
        "id": "WNhRIAyDlLoH"
      },
      "execution_count": null,
      "outputs": []
    },
    {
      "cell_type": "code",
      "source": [
        "MissingNormalDistColumns = ['BloodPressure', 'BMI']\n",
        "for col in MissingNormalDistColumns:\n",
        "    mean = df[col].mean()\n",
        "    std = df[col].std()\n",
        "\n",
        "    nan_count = df[col].isnull().sum()\n",
        "\n",
        "    random_values = np.random.normal(mean, std, nan_count)\n",
        "\n",
        "    nan_index = df[col].index[df[col].isnull()]\n",
        "    df.loc[nan_index, col] = random_values"
      ],
      "metadata": {
        "trusted": true,
        "id": "6fhe-OGzlLoH"
      },
      "execution_count": null,
      "outputs": []
    },
    {
      "cell_type": "code",
      "source": [
        "MissingNotNormalDistColumns = ['Glucose', 'SkinThickness']\n",
        "for col in MissingNotNormalDistColumns:\n",
        "    lower_bound = df[col].min()\n",
        "    upper_bound = df[col].max()\n",
        "\n",
        "    nan_count = df[col].isnull().sum()\n",
        "\n",
        "    random_values = np.random.uniform(lower_bound, upper_bound, nan_count)\n",
        "\n",
        "    nan_index = df[col].index[df[col].isnull()]\n",
        "    df.loc[nan_index, col] = random_values"
      ],
      "metadata": {
        "trusted": true,
        "id": "-fxcM0oLlLoH"
      },
      "execution_count": null,
      "outputs": []
    },
    {
      "cell_type": "code",
      "source": [
        "df.isna().sum()"
      ],
      "metadata": {
        "trusted": true,
        "id": "RnzPrnHylLoI"
      },
      "execution_count": null,
      "outputs": []
    },
    {
      "cell_type": "code",
      "source": [
        "df"
      ],
      "metadata": {
        "trusted": true,
        "id": "gtSIeOGjlLoI"
      },
      "execution_count": null,
      "outputs": []
    },
    {
      "cell_type": "markdown",
      "source": [
        "# Scaling"
      ],
      "metadata": {
        "id": "99HlIDHrlLoI"
      }
    },
    {
      "cell_type": "code",
      "source": [
        "mm_scaler = preprocessing.MinMaxScaler()\n",
        "data_scaled = pd.DataFrame(mm_scaler.fit_transform(df),columns = df.columns)\n",
        "\n",
        "data_scaled"
      ],
      "metadata": {
        "trusted": true,
        "id": "iM91EdhqlLoJ"
      },
      "execution_count": null,
      "outputs": []
    },
    {
      "cell_type": "markdown",
      "source": [
        "# Modeling"
      ],
      "metadata": {
        "id": "k5L_BpfDlLoJ"
      }
    },
    {
      "cell_type": "code",
      "source": [
        "data = data_scaled.copy()"
      ],
      "metadata": {
        "trusted": true,
        "id": "CazXqj4flLoK"
      },
      "execution_count": null,
      "outputs": []
    },
    {
      "cell_type": "code",
      "source": [
        "X = data.drop('Outcome' , axis = 1)\n",
        "y = data['Outcome']"
      ],
      "metadata": {
        "trusted": true,
        "id": "iaLOy7oWlLoK"
      },
      "execution_count": null,
      "outputs": []
    },
    {
      "cell_type": "code",
      "source": [
        "data['Outcome']"
      ],
      "metadata": {
        "trusted": true,
        "id": "7z_YghcAlLoK"
      },
      "execution_count": null,
      "outputs": []
    },
    {
      "cell_type": "code",
      "source": [
        "value_counts = y.value_counts()\n",
        "print(\"Count of 0:\", value_counts[0])\n",
        "print(\"Count of 1:\", value_counts[1])\n",
        "\n",
        "sns.countplot(x=y)\n",
        "\n",
        "plt.xlabel('Label')\n",
        "plt.ylabel('Count')\n",
        "plt.title('Countplot of Labels')\n",
        "\n",
        "plt.show()"
      ],
      "metadata": {
        "trusted": true,
        "id": "5OC55dgFlLoK"
      },
      "execution_count": null,
      "outputs": []
    },
    {
      "cell_type": "code",
      "source": [
        "#Balancing target by over sampling\n",
        "smote = SMOTE(k_neighbors = 10)\n",
        "X, y = smote.fit_resample(X, y)"
      ],
      "metadata": {
        "trusted": true,
        "id": "5Na3CadBlLoK"
      },
      "execution_count": null,
      "outputs": []
    },
    {
      "cell_type": "code",
      "source": [
        "value_counts = y.value_counts()\n",
        "print(\"Count of 0:\", value_counts[0])\n",
        "print(\"Count of 1:\", value_counts[1])\n",
        "\n",
        "sns.countplot(x=y)\n",
        "\n",
        "plt.xlabel('Label')\n",
        "plt.ylabel('Count')\n",
        "plt.title('Countplot of Labels')\n",
        "\n",
        "plt.show()"
      ],
      "metadata": {
        "trusted": true,
        "id": "_4NtI8ZilLoK"
      },
      "execution_count": null,
      "outputs": []
    },
    {
      "cell_type": "code",
      "source": [
        "X_train, X_test, y_train, y_test = train_test_split(X, y, test_size=0.20)"
      ],
      "metadata": {
        "trusted": true,
        "id": "k4ggtT7xlLoL"
      },
      "execution_count": null,
      "outputs": []
    },
    {
      "cell_type": "code",
      "source": [
        "#def func for multiple modleing\n",
        "\n",
        "def Cls_model_GrdSrch_Tune(model, Data, X, y, params):\n",
        "\n",
        "    clf = GridSearchCV(model, params, scoring ='accuracy', cv = 5)\n",
        "    clf.fit(X, y)\n",
        "\n",
        "    print(\"best score is :\" , clf.best_score_)\n",
        "    print(\"best estimator is :\" , clf.best_estimator_)\n",
        "    print(\"best Params is :\" , clf.best_params_)\n",
        "\n",
        "    return (clf.best_score_)"
      ],
      "metadata": {
        "trusted": true,
        "id": "5xafZYiolLoL"
      },
      "execution_count": null,
      "outputs": []
    },
    {
      "cell_type": "code",
      "source": [
        "models_lables = [\"RandomForestClassifier\",\"Gaussian Naive Bays\",\"KNN\",\"Logistic_Regression\",\"Support_Vector\"]\n",
        "models = [RandomForestClassifier(),GB(),knn(),LogisticRegression(),SVC()]\n",
        "Model_Accuracy_default = []\n",
        "\n",
        "for models_lable, model in zip(models_lables, models):\n",
        "    print('*****************************************')\n",
        "    print(models_lable)\n",
        "    Accuracy = Cls_model_GrdSrch_Tune(model, data, X_train, y_train, {})\n",
        "    Model_Accuracy_default.append(Accuracy)"
      ],
      "metadata": {
        "trusted": true,
        "id": "fIF9Qp5nlLoL"
      },
      "execution_count": null,
      "outputs": []
    },
    {
      "cell_type": "code",
      "source": [
        "AccuracyList_default = pd.DataFrame({\n",
        "     \"Classification Model\" :models,\n",
        "     \"Accuracy\":Model_Accuracy_default\n",
        "    })\n",
        "AccuracyList_default.sort_values( by = 'Accuracy' , ascending = False)"
      ],
      "metadata": {
        "trusted": true,
        "id": "jNr1loG3lLoL"
      },
      "execution_count": null,
      "outputs": []
    },
    {
      "cell_type": "code",
      "source": [
        "models_lables = [\"RandomForestClassifier\",\"Gaussian Naive Bays\",\"KNN\",\"Logistic_Regression\",\"Support_Vector\"]\n",
        "\n",
        "models = [RandomForestClassifier(),GB(),knn(),LogisticRegression(),SVC()]\n",
        "\n",
        "params_RFC = {\n",
        "                'n_estimators': [5, 10, 15, 19, 20, 21, 25, 30, 35, 40],\n",
        "                'min_samples_split': [2, 3, 4, 5, 6],\n",
        "                'criterion' : [\"gini\", \"entropy\"]\n",
        "            }\n",
        "params_GB = {\n",
        "\n",
        "            }\n",
        "params_KNN = {\n",
        "               'n_neighbors':[3, 4, 5, 10, 15, 20],\n",
        "               'weights':('uniform','distance'),\n",
        "               'p':[1,5]\n",
        "             }\n",
        "params_LR = {\n",
        "             'C': [0.01,0.1,1,10],'penalty':('l1','l2'),\n",
        "             'penalty': ('l1', 'l2', 'elasticnet')\n",
        "            }\n",
        "params_SVC = {\n",
        "\n",
        "              'C': [0.1, 1, 10, 20, 100],\n",
        "              'gamma': [1, 0.1, 0.01, 0.001, 0.0001,10],\n",
        "              'kernel': ['rbf']\n",
        "             }\n",
        "\n",
        "params = [params_RFC, params_GB, params_KNN, params_LR, params_SVC]\n",
        "\n",
        "Model_Accuracy_tunned = []\n",
        "\n",
        "# lst = zip(models_lables, models, params)\n",
        "# list(lst)\n",
        "\n",
        "for models_lable, model, param in zip(models_lables, models, params):\n",
        "    print('*****************************************')\n",
        "    print(models_lable)\n",
        "\n",
        "    Accuracy = Cls_model_GrdSrch_Tune(model, data, X_train, y_train, param)\n",
        "    Model_Accuracy_tunned.append(Accuracy)\n",
        ""
      ],
      "metadata": {
        "trusted": true,
        "id": "3oJ2CLg_lLoL"
      },
      "execution_count": null,
      "outputs": []
    },
    {
      "cell_type": "code",
      "source": [
        "AccuracyList_tunned = pd.DataFrame({\n",
        "     \"Classification Model\" :models,\n",
        "     \"Accuracy\":Model_Accuracy_tunned\n",
        "    })\n",
        "AccuracyList_tunned.sort_values( by = 'Accuracy' , ascending = False)"
      ],
      "metadata": {
        "trusted": true,
        "id": "r6m40ylhlLoM"
      },
      "execution_count": null,
      "outputs": []
    },
    {
      "cell_type": "code",
      "source": [
        "AccuracyList_final = pd.DataFrame({\n",
        "     \"Classification Model\" :models,\n",
        "     \"Accuracy_with_default_config\":Model_Accuracy_default,\n",
        "     \"Accuracy_with_tunned_params\": Model_Accuracy_tunned\n",
        "    })\n",
        "AccuracyList_final.sort_values(by = 'Accuracy_with_tunned_params' , ascending = False)"
      ],
      "metadata": {
        "trusted": true,
        "id": "ad_G59oulLoM"
      },
      "execution_count": null,
      "outputs": []
    },
    {
      "cell_type": "code",
      "source": [
        "params = {'n_estimators' : [40],\n",
        "          'min_samples_split' : [2],\n",
        "          'criterion': [\"gini\"]\n",
        "         }\n",
        "BestModel = RandomForestClassifier(n_estimators= 40, min_samples_split= 2, criterion = 'gini')\n",
        "BestModel.fit(X_train, y_train)\n",
        "y_predicted = BestModel.predict(X_test)"
      ],
      "metadata": {
        "trusted": true,
        "id": "TAFf9W_QlLoM"
      },
      "execution_count": null,
      "outputs": []
    },
    {
      "cell_type": "code",
      "source": [
        "conf_matrix = confusion_matrix(y_test, y_predicted)\n",
        "\n",
        "acc_score = accuracy_score(y_test, y_predicted)\n",
        "pre_score = precision_score(y_test, y_predicted)\n",
        "re_score = recall_score(y_test, y_predicted)\n",
        "\n",
        "print('accuracy_score : ', acc_score)\n",
        "print('precision_score : ', pre_score)\n",
        "print('recall_score : ', re_score, '\\n')\n",
        "\n",
        "print('Accuracy of RandomForestClassifier is: ', acc_score * 100)\n",
        "print('Precision of RandomForestClassifier is: ', pre_score * 100)\n",
        "print('Recall of KRandomForestClassifier is: ', re_score * 100, '\\n')\n",
        "\n",
        "print('Confusion_Matrix : ',\"\\n\" , conf_matrix,  '\\n')"
      ],
      "metadata": {
        "trusted": true,
        "id": "12fupli0lLoS"
      },
      "execution_count": null,
      "outputs": []
    },
    {
      "cell_type": "code",
      "source": [],
      "metadata": {
        "id": "V1koaCbxlLoS"
      },
      "execution_count": null,
      "outputs": []
    }
  ]
}